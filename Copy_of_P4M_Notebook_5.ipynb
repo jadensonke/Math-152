{
  "nbformat": 4,
  "nbformat_minor": 0,
  "metadata": {
    "colab": {
      "name": "Copy of P4M Notebook 5.ipynb",
      "provenance": [],
      "collapsed_sections": [],
      "toc_visible": true,
      "include_colab_link": true
    },
    "kernelspec": {
      "name": "python3",
      "display_name": "Python 3"
    }
  },
  "cells": [
    {
      "cell_type": "markdown",
      "metadata": {
        "id": "view-in-github",
        "colab_type": "text"
      },
      "source": [
        "<a href=\"https://colab.research.google.com/github/jadensonke/Math-152/blob/main/Copy_of_P4M_Notebook_5.ipynb\" target=\"_parent\"><img src=\"https://colab.research.google.com/assets/colab-badge.svg\" alt=\"Open In Colab\"/></a>"
      ]
    },
    {
      "cell_type": "markdown",
      "metadata": {
        "id": "3Vh71OubDeRq"
      },
      "source": [
        "# Part 5:  Putting it together...\n",
        "\n",
        "To wrap things up, we are going to bring together the techniques we have seen, and attempt a few challenges.\n",
        "\n",
        "Please submit this notebook by 5pm (California time) on Wednesday, March 17th.  Your submission should include answers to all three questions from the first (Repetition and benchmarking) section, and **two** of the challenging problems."
      ]
    },
    {
      "cell_type": "markdown",
      "metadata": {
        "id": "tmXRsSLiDw2i"
      },
      "source": [
        "## Repetition and benchmarking\n",
        "\n",
        "Computers are very good at repetition.  As your programming skills improve, you can more easily coax your computer into performing more repetitions.  We have seen at least three ways of performing repetition:  with loops (e.g, for and while loops), with lists (especially slicing and comprehension), and with numpy arrays (especially vectorized functions).  \n",
        "\n",
        "It is good to see this, in a simple example, to reflect on what you've learned this quarter.  Our simple example will be producing a list of squares $n^2$ for $n$ in a range of numbers.\n",
        "\n",
        "The first things we learned were how to use Python as a calculator, printing \"answers\" to the screen, and using a \"for loop\" to repeat things.  Here is a bit of code in that spirit."
      ]
    },
    {
      "cell_type": "code",
      "metadata": {
        "id": "1_Gk52ZaDd1M",
        "colab": {
          "base_uri": "https://localhost:8080/"
        },
        "outputId": "4219eb88-6f89-416f-b0c3-a72c0ea702d3"
      },
      "source": [
        "for n in range(10):\n",
        "  print(n*n)"
      ],
      "execution_count": null,
      "outputs": [
        {
          "output_type": "stream",
          "name": "stdout",
          "text": [
            "0\n",
            "1\n",
            "4\n",
            "9\n",
            "16\n",
            "25\n",
            "36\n",
            "49\n",
            "64\n",
            "81\n"
          ]
        }
      ]
    },
    {
      "cell_type": "markdown",
      "metadata": {
        "id": "CI7QBmfi8jn1"
      },
      "source": [
        "Then we learned about lists.  Here are two ways to make a list of the squares, from $0^2$ up to $9^2$.  We print the list at the end of each code block."
      ]
    },
    {
      "cell_type": "code",
      "metadata": {
        "id": "_pSgH2YtEoDT",
        "colab": {
          "base_uri": "https://localhost:8080/"
        },
        "outputId": "e7a91f88-5433-4c19-b4cd-f89688b8871c"
      },
      "source": [
        "L = []\n",
        "for n in range(10):\n",
        "  L.append(n*n)\n",
        "print(L)"
      ],
      "execution_count": null,
      "outputs": [
        {
          "output_type": "stream",
          "name": "stdout",
          "text": [
            "[0, 1, 4, 9, 16, 25, 36, 49, 64, 81]\n"
          ]
        }
      ]
    },
    {
      "cell_type": "code",
      "metadata": {
        "id": "7arqtxfWESCf",
        "colab": {
          "base_uri": "https://localhost:8080/"
        },
        "outputId": "13947e0e-87d1-4f10-b831-05908719a74b"
      },
      "source": [
        "L = [0]*10\n",
        "for n in range(10):\n",
        "  L[n] = n*n\n",
        "print(L)"
      ],
      "execution_count": null,
      "outputs": [
        {
          "output_type": "stream",
          "name": "stdout",
          "text": [
            "[0, 1, 4, 9, 16, 25, 36, 49, 64, 81]\n"
          ]
        }
      ]
    },
    {
      "cell_type": "markdown",
      "metadata": {
        "id": "BG8Z6La18uv4"
      },
      "source": [
        "Hopefully you learned to give your lists better names, like `square_list`.  A very slick Pythonic way of producing a list is with \"list comprehension\".  Such an approach is in the code below."
      ]
    },
    {
      "cell_type": "code",
      "metadata": {
        "id": "uTel6wOOEZrm",
        "colab": {
          "base_uri": "https://localhost:8080/"
        },
        "outputId": "fec8a35a-0bb5-4404-de50-9352c97a947a"
      },
      "source": [
        "square_list = [n*n for n in range(10)]\n",
        "print(square_list)"
      ],
      "execution_count": null,
      "outputs": [
        {
          "output_type": "stream",
          "name": "stdout",
          "text": [
            "[0, 1, 4, 9, 16, 25, 36, 49, 64, 81]\n"
          ]
        }
      ]
    },
    {
      "cell_type": "markdown",
      "metadata": {
        "id": "EDUFarMO836b"
      },
      "source": [
        "Finally, we learned about the numpy package, which pumps arrays through the processor very quickly.  A numpy approach is below."
      ]
    },
    {
      "cell_type": "code",
      "metadata": {
        "id": "KWyPzv53EfRW"
      },
      "source": [
        "import numpy as np # First we have to load the package."
      ],
      "execution_count": null,
      "outputs": []
    },
    {
      "cell_type": "code",
      "metadata": {
        "id": "sCWmWLfWEgqV",
        "colab": {
          "base_uri": "https://localhost:8080/"
        },
        "outputId": "7f9859d4-ef64-4351-942c-6ef7d30b64e8"
      },
      "source": [
        "A = np.arange(10)\n",
        "print(A*A)"
      ],
      "execution_count": null,
      "outputs": [
        {
          "output_type": "stream",
          "name": "stdout",
          "text": [
            "[ 0  1  4  9 16 25 36 49 64 81]\n"
          ]
        }
      ]
    },
    {
      "cell_type": "markdown",
      "metadata": {
        "id": "WEKhWP4oE1GJ"
      },
      "source": [
        "Let's consider the question:  what is the fastest way to produce a list (or array) of squares?  To answer it, we will wrap things in different functions, and carry out some time analysis.  \n",
        "\n",
        "Notice that the functions are as identical as possible.  The method of creating a list/array is the different in each function.  But all the functions take a single input `N` and return a list or array with the squares of 0,...,N-1.  Note that there are **no print statements**!  Printing takes time, and we don't care about how much time it takes to *print* a list on your screen.  Also, if we run %timeit, then a print statement will fill your screen with tens of thousands of printed messages!"
      ]
    },
    {
      "cell_type": "code",
      "metadata": {
        "id": "8fDM7N4UEkj1"
      },
      "source": [
        "def make_sq_1(N):\n",
        "  L = []\n",
        "  for n in range(N):\n",
        "    L.append(n*n)\n",
        "  return L"
      ],
      "execution_count": null,
      "outputs": []
    },
    {
      "cell_type": "code",
      "metadata": {
        "id": "qEZsZmViFJAE"
      },
      "source": [
        "def make_sq_2(N):\n",
        "  L = [0] * N\n",
        "  for n in range(N):\n",
        "    L[n] = n*n\n",
        "  return L"
      ],
      "execution_count": null,
      "outputs": []
    },
    {
      "cell_type": "code",
      "metadata": {
        "id": "NhGyT-BYFOpM"
      },
      "source": [
        "def make_sq_3(N):\n",
        "  return [n*n for n in range(N)]"
      ],
      "execution_count": null,
      "outputs": []
    },
    {
      "cell_type": "code",
      "metadata": {
        "id": "Api8iz1eFRlN"
      },
      "source": [
        "def make_sq_4(N):\n",
        "  A = np.arange(N)\n",
        "  return A*A"
      ],
      "execution_count": null,
      "outputs": []
    },
    {
      "cell_type": "code",
      "source": [
        "def make_sq_5(N):\n",
        " return list(map(lambda n:n*n, range(0,N+1)))\n"
      ],
      "metadata": {
        "id": "q1c8AXZpulBa"
      },
      "execution_count": null,
      "outputs": []
    },
    {
      "cell_type": "code",
      "metadata": {
        "id": "lZGA3AmEFVs0",
        "colab": {
          "base_uri": "https://localhost:8080/"
        },
        "outputId": "eec06aec-cc24-4557-f772-4f363c4e8f9d"
      },
      "source": [
        "%timeit make_sq_1(1000)"
      ],
      "execution_count": null,
      "outputs": [
        {
          "output_type": "stream",
          "name": "stdout",
          "text": [
            "10000 loops, best of 5: 115 µs per loop\n"
          ]
        }
      ]
    },
    {
      "cell_type": "code",
      "metadata": {
        "id": "FVUJxnmfFYSU",
        "colab": {
          "base_uri": "https://localhost:8080/"
        },
        "outputId": "dc982985-7641-4aad-f6b3-58ca4cdef819"
      },
      "source": [
        "%timeit make_sq_2(1000)"
      ],
      "execution_count": null,
      "outputs": [
        {
          "output_type": "stream",
          "name": "stdout",
          "text": [
            "10000 loops, best of 5: 85.1 µs per loop\n"
          ]
        }
      ]
    },
    {
      "cell_type": "code",
      "metadata": {
        "id": "Zt1l8hOsFZxs",
        "colab": {
          "base_uri": "https://localhost:8080/"
        },
        "outputId": "d2f992f7-6b64-445c-a667-3f3339d38719"
      },
      "source": [
        "%timeit make_sq_3(1000)"
      ],
      "execution_count": null,
      "outputs": [
        {
          "output_type": "stream",
          "name": "stdout",
          "text": [
            "10000 loops, best of 5: 69.3 µs per loop\n"
          ]
        }
      ]
    },
    {
      "cell_type": "code",
      "metadata": {
        "id": "pSVmRwAdFb5s",
        "colab": {
          "base_uri": "https://localhost:8080/"
        },
        "outputId": "f7ff372c-9000-4556-d9d5-55851a95b6d4"
      },
      "source": [
        "%timeit make_sq_4(1000)"
      ],
      "execution_count": null,
      "outputs": [
        {
          "output_type": "stream",
          "name": "stdout",
          "text": [
            "The slowest run took 21.44 times longer than the fastest. This could mean that an intermediate result is being cached.\n",
            "100000 loops, best of 5: 3.28 µs per loop\n"
          ]
        }
      ]
    },
    {
      "cell_type": "markdown",
      "metadata": {
        "id": "wtjJCpIvF965"
      },
      "source": [
        "These benchmarks are useful, but let's do a graphical analysis.  This is the last thing we studied."
      ]
    },
    {
      "cell_type": "code",
      "metadata": {
        "id": "CNgnxRhFGIz9"
      },
      "source": [
        "import matplotlib.pyplot as plt\n",
        "import seaborn as sns # In case we want some modern stylings.\n",
        "import time as time"
      ],
      "execution_count": null,
      "outputs": []
    },
    {
      "cell_type": "markdown",
      "metadata": {
        "id": "_nCiB6uSJT2C"
      },
      "source": [
        "Now we are going to create a graph to benchmark the performance of these three functions.  This will use a few new programming techniques."
      ]
    },
    {
      "cell_type": "code",
      "metadata": {
        "id": "3Qbzo01tFdi8",
        "colab": {
          "base_uri": "https://localhost:8080/",
          "height": 373
        },
        "outputId": "ec7474e7-634a-4a2e-ddb5-ecb01ebae3aa"
      },
      "source": [
        "fig,ax = plt.subplots(1,1,figsize=(8,5)) # Initialize a plot.\n",
        "N_array = np.array([2**n for n in range(1,21)]) # We'll try N in the array [2,4,8,..,~1 million]\n",
        "for method in [make_sq_1, make_sq_2, make_sq_3, make_sq_4, make_sq_5]: # A list of functions, oh my!\n",
        "  time_array = np.zeros(len(N_array)) # Initialize an array of zeros\n",
        "  for j,N in enumerate(N_array):  # See notes afterwards about the enumerate command.\n",
        "    time_tot = 0\n",
        "    for reps in range(10): # Average of 10 repetitions.\n",
        "      start_time = time.time()\n",
        "      method(N)\n",
        "      end_time = time.time()\n",
        "      time_tot += end_time - start_time\n",
        "    time_ave = time_tot / 10\n",
        "    time_array[j] = time_ave\n",
        "  plt.plot(N_array, time_array, label='Time using function '+method.__name__)\n",
        "plt.legend()\n",
        "plt.xscale('log')\n",
        "plt.yscale('log')\n",
        "plt.suptitle('Time to create a list of squares from 1 to N')\n",
        "plt.xlabel('Length of list (N)')\n",
        "plt.ylabel('Time (seconds)')\n",
        "plt.show()"
      ],
      "execution_count": null,
      "outputs": [
        {
          "output_type": "display_data",
          "data": {
            "text/plain": [
              "<Figure size 576x360 with 1 Axes>"
            ],
            "image/png": "[encoded data removed]"
          },
          "metadata": {
            "needs_background": "light"
          }
        }
      ]
    },
    {
      "cell_type": "markdown",
      "metadata": {
        "id": "eWyplW1_Jfak"
      },
      "source": [
        "Let's do a line-by-line analysis.\n",
        "\n",
        "1.  `fig,ax = plt.subplots(1,1,figsize=(8,5))`\n",
        "\n",
        "2.  `N_array = np.array([2**n for n in range(1,21)])`\n",
        "\n",
        "3.  `for method in [make_sq_1, make_sq_2, make_sq_3, make_sq_4]:`\n",
        "\n",
        "4.  `  time_array = np.zeros(len(N_array)) # Initialize an array of zeros`\n",
        "\n",
        "5.  `  for j,N in enumerate(N_array):`\n",
        "\n",
        "6.  `    time_tot = 0`\n",
        "    `for reps in range(10):`\n",
        "      `start_time = time.time()`\n",
        "      `method(N)`\n",
        "      `end_time = time.time()`\n",
        "      `time_tot += end_time - start_time`\n",
        "    `time_ave = time_tot / 10`\n",
        "\n",
        "    `time_array[j] = time_ave`\n",
        "7.    `plt.plot(N_array, time_array, label='Time using function '+method.__name__)`\n",
        "\n",
        "8.  `plt.legend()`\n",
        "\n",
        "9.  `plt.xscale('log')`\n",
        "10. `plt.yscale('log')`"
      ]
    },
    {
      "cell_type": "markdown",
      "metadata": {
        "id": "0Ucwm_uHKL1w"
      },
      "source": [
        "Line 1 initializes a plot, with figure size 8 inches by 5 inches.  The \"1,1\" means that the plot has no subplots, or more precisely, it is a 1 by 1 grid of plots.  (Only one plot).\n",
        "\n",
        "In line 2, we use a list comprehension to make a list [2,4,8,16,..., 2^20].  Note that 2^20 is about one million.  These are the N's that we're going to work with.\n",
        "\n",
        "Line 3 might be surprising and interesting.  The variable `method` is iterated through an array of four *functions*!  Yes, we can have a list of functions!  And then we can use those functions!  Functions are Python objects like any other, and they can be treated as such.\n",
        "\n",
        "Lines 4-6 create an array of times.  Instead of using the %timeit magic, we store our times in an array, and we carry out a timing experiment from scratch.  Line 4 just initializes a numpy array of zeros to fill later.\n",
        "\n",
        "Line 5 has a new command `enumerate` in the loop.  This makes `N` iterate through our `N_array`, and meanwhile `j` will simply \"count up\".  It's equivalent to setting `j=0` before the loop, and putting a `j = j + 1` within the loop to count.\n",
        "\n",
        "Line 6 carries out the timing experiment.  It runs a function (`method`) to create a list of squares up to `N`.  It does this 10 times, checking the time before and after each time.  Then it computes the average amount of time elapsed (among the 10 repetitions) and records this in the `time_array`.\n",
        "\n",
        "Line 7 plots `N` on the x-axis and time (`time_array`) on the y-axis with a line plot.  It assigns this plot a label, which is the name of the method.  To find the name of the function `method`, you can use `method.__name__`.  That's a bit fancier Python.\n",
        "\n",
        "Finally, Line 8 produces the legend from the labels.  \n",
        "\n",
        "Lines 9 and 10 make the x-axis and y-axis log-scaled, which is helpful since the variable `N` is increasing exponentially, and some times are as short as microseconds while others are closer to milliseconds or seconds.\n",
        "\n",
        "The rest is styling."
      ]
    },
    {
      "cell_type": "markdown",
      "metadata": {
        "id": "6anmwPIoLwdu"
      },
      "source": [
        "## Exercises\n",
        "\n",
        "1.  Interpret the plot above.  Which method is fastest for long lists?  Which method is fastest for short lists?  At what size `N` should you switch from one method to the other?\n",
        "\n",
        "2.  Add another method to the plot, by defining your own function `make_sq_5` that mirros the basic structure of the other `make_sq` functions.  Note that your function must create the list in a different way, but it should still take the same parameter `N` and return a list or numpy array.  Create the plot with your function added to the other four, and compare the performance of your method to the others.\n",
        "\n",
        "3.  Create a function with `def inflate(S):` which takes as input a string `S` and returns a string in which the 1st letter of `S` appears once, and the second letter appears twice, the third letter appears three times, etc.  For example, `inflate('Hello')` should return the string `'Heelllllllooooo'`.  You must use a loop of the form `for j,letter in enumerate(S):`, and *no other loops*!"
      ]
    },
    {
      "cell_type": "markdown",
      "metadata": {
        "id": "5cc5rYeH9rcr"
      },
      "source": [
        "\n",
        "\n",
        "\n",
        "1.   The method that is fasest for long lists is sq_4 The method that is the fastesst for short lists is sq_1 and sq_3 depending on how short the list is.When value N is at 50 you should switch you method of sq_3 to sq_4 for the fastest outcome.\n",
        "2.   After creating an additional function and adding it to the matplotlib, I observed that it was very ssimilar to make_sq_2. It takes a little longer with smaller numbers, but as the numbers increase the time it takes levelss out to the same as make_sq_1,2,3 and 4.\n"
      ]
    },
    {
      "cell_type": "code",
      "source": [
        "#3\n",
        "def inflate(S):\n",
        "  for j, letter in enumerate(S):\n",
        "    S=letter[0]*(j+1)\n",
        "    print(S) \n",
        "\n",
        "\n",
        "\n",
        "inflate('Hello')"
      ],
      "metadata": {
        "colab": {
          "base_uri": "https://localhost:8080/"
        },
        "id": "i_d6zTpihF6k",
        "outputId": "790f92a9-bd91-497e-ce99-c59af5d09ba0"
      },
      "execution_count": null,
      "outputs": [
        {
          "output_type": "stream",
          "name": "stdout",
          "text": [
            "H\n",
            "ee\n",
            "lll\n",
            "llll\n",
            "ooooo\n"
          ]
        }
      ]
    },
    {
      "cell_type": "markdown",
      "metadata": {
        "id": "F3CDgf54dWoL"
      },
      "source": [
        "# Final challenges!\n",
        "\n",
        "Please turn in your notebooks with your attempts on **two** of the challenges below.  **Only two** will be graded."
      ]
    },
    {
      "cell_type": "markdown",
      "metadata": {
        "id": "HJJWMj_8VdXg"
      },
      "source": [
        "## Challenge 1\n",
        "\n",
        "If $N$ is a positive integer, then $r_3(N)$ is the number of ways that $N$ can be expressed as the sum of three squares.  Order and sign matter, so for example\n",
        "$$6 = 1^2 + 1^2 + 2^2 = (-1)^2 + 1^2 + 2^2 = 2^2 + (-1)^2 + (-1)^2 = \\cdots$$\n",
        "These are all different ways of expressing 6 as the sum of three squares.  In fact, $r_3(6) = 8 \\cdot 3 = 24$.  The 8 comes from the fact that there are eight sign-choices, and the 3 comes from the three orderings (1,1,2) and (1,2,1) and (2,1,1).\n",
        "\n",
        "In other words, $r_3(N)$ is the number of elements in the following set:\n",
        "$$\\{ (a,b,c) \\in {\\mathbb Z}^3 : a^2 + b^2 + c^2 = N \\}.$$\n",
        "\n",
        "Write a function that computes $r_3(N)$ as efficiently as you can, for somewhat large values of $N$ (e.g., $N \\approx 1000$).\n",
        "\n",
        "You can check whether your function is behaving correctly, by comparing to the values found at the [Online Encyclopedia of Integer Sequences](https://oeis.org/A005875).\n",
        "\n",
        "\n"
      ]
    },
    {
      "cell_type": "code",
      "metadata": {
        "id": "MqXUlGr6UbAI",
        "colab": {
          "base_uri": "https://localhost:8080/"
        },
        "outputId": "8e9652b4-3528-4e77-e2ef-61f1d6567d1c"
      },
      "source": [
        "def rep_three(N):\n",
        "  for a in range(0, N):\n",
        "        for b in range(0, N):\n",
        "            for c in range(0, N):\n",
        "                if a*a + b*b + c*c == N:\n",
        "                  if a==b==c==0:\n",
        "                    return 1\n",
        "                  if a==b==0 and c!=0:\n",
        "                    return 6\n",
        "                  if b==c and not a:\n",
        "                    return 12\n",
        "                  if a==b==c!=0:\n",
        "                    return 8\n",
        "                  if a==0 and b!=c!=0:\n",
        "                    return 24\n",
        "                  if a==b:\n",
        "                    return 24\n",
        "                  else:\n",
        "                    return None\n",
        "\n",
        "rep_three(6)  #return R # The result of your function should be R."
      ],
      "execution_count": null,
      "outputs": [
        {
          "output_type": "execute_result",
          "data": {
            "text/plain": [
              "24"
            ]
          },
          "metadata": {},
          "execution_count": 34
        }
      ]
    },
    {
      "cell_type": "code",
      "metadata": {
        "id": "CCzEYimdUa9Z",
        "colab": {
          "base_uri": "https://localhost:8080/"
        },
        "outputId": "c3bbbe3b-5f09-4470-afc2-7919cada6f7f"
      },
      "source": [
        "rep_three(6) # This should output 24."
      ],
      "execution_count": null,
      "outputs": [
        {
          "output_type": "execute_result",
          "data": {
            "text/plain": [
              "24"
            ]
          },
          "metadata": {},
          "execution_count": 35
        }
      ]
    },
    {
      "cell_type": "markdown",
      "metadata": {
        "id": "qRLhmGVkXd8K"
      },
      "source": [
        "# Challenge 2\n",
        "\n",
        "If $r$ is a positive real number, then the area of the circle of radius $r$ is $\\pi r^2$.  If you place this circle around the origin, on a sheet of graph paper, then you will find *about* $\\pi r^2$ \"grid points\" inside this circle.  The grid points inside the circle form the set\n",
        "$$S = \\{ (x,y) \\in {\\mathbb Z}^2 : x^2 + y^2 < r^2 \\}.$$\n",
        "\n",
        "Define $E(r) = \\pi r^2 - \\# S$ to be the \"error\" -- the difference between the area of the circle and the number of grid points within the circle.  \n",
        "\n",
        "Create a plot with $r$ on the horizontal axis and $E(r)$ on the y-axis.  Try to accomplish this as efficiently as possible, where $r$ ranges from $0$ to $1000$.\n",
        "\n",
        "Can you come up with a good bound $\\vert E(r) \\vert \\leq f(r)$ for some nice function $f(r)$, just by looking at your plot?  I.e., your plot of $E(r)$ should be bounded above by the graph of $y = f(r)$ and below by the graph of $y = -f(r)$.  If you can come up with such a bound, plot it too."
      ]
    },
    {
      "cell_type": "code",
      "metadata": {
        "id": "_gyzNqCaUavY"
      },
      "source": [
        ""
      ],
      "execution_count": null,
      "outputs": []
    },
    {
      "cell_type": "markdown",
      "metadata": {
        "id": "kYWSMHMsY853"
      },
      "source": [
        "# Challenge 3\n",
        "\n",
        "The following result was found by Euler, but I've changed his numbers to $A$ and $B$ to make your life hard.\n",
        "\n",
        "Theorem:  A prime number $p$ can be expressed in the form $x^2 + 3 y^2$ if and only if $p$ is congruent to $A$ modulo $B$ (i.e., `p % B == A`).  \n",
        "\n",
        "Use experimental techniques to determine $A$ and $B$.  Now try the same for $3$ replaced by $4,5,6,7,8,9$. "
      ]
    },
    {
      "cell_type": "code",
      "source": [
        "#p=x**2+n*y**2\n",
        "L=[]\n",
        "def Euler3(x,y): #$n=x^{2}+ny^{2}$\n",
        "  p=x**2+3*y**2 \n",
        "  for i in range(2,p):\n",
        "    if (p % i) != 0:\n",
        "      for B in range(1,5):\n",
        "        L.append(p%B)\n",
        "      \n",
        "    else:\n",
        "      print(p,'not prime')\n",
        "    return L\n",
        "\n",
        " \n",
        "#Euler3(1,1) not prime\n",
        "#Euler3(1,2) #0111\n",
        "#Euler3(1,3) not prime\n",
        "#Euler3(1,4) not prime\n",
        "#Euler3(1,5) not prime\n",
        "#Euler3(1,6) #0111\n",
        "#Euler3(1,7) not prime\n",
        "\n",
        "#Euler3(2,2) not prime\n",
        "#Euler3(2,3) #0113\n",
        "#Euler3(2,4) not prime\n",
        "#Euler3(3,2) #0101\n",
        "\n",
        "#Euler3(2,1) #0113\n",
        "#Euler3(3,1) not prime\n",
        "#Euler3(4,1) #0113\n",
        "#Euler3(5,1) not prime\n",
        "#Euler3(7,1) not prime"
      ],
      "metadata": {
        "colab": {
          "base_uri": "https://localhost:8080/"
        },
        "id": "lFZmrbCp5m8n",
        "outputId": "946720e5-2a66-44f7-f1f2-f831f876f92b"
      },
      "execution_count": 16,
      "outputs": [
        {
          "output_type": "stream",
          "name": "stdout",
          "text": [
            "8164 not prime\n"
          ]
        },
        {
          "output_type": "execute_result",
          "data": {
            "text/plain": [
              "[]"
            ]
          },
          "metadata": {},
          "execution_count": 16
        }
      ]
    },
    {
      "cell_type": "markdown",
      "source": [
        "From the results, A=1, B=3"
      ],
      "metadata": {
        "id": "7B89arE4n4XX"
      }
    },
    {
      "cell_type": "code",
      "source": [
        "L=[]\n",
        "def Euler4(x,y): #$n=x^{2}+ny^{2}$\n",
        "  p=x**2+4*y**2\n",
        "  for i in range(2,p):\n",
        "    if (p % i) != 0:\n",
        "      for B in range(1,5):\n",
        "        L.append(p%B)\n",
        "      \n",
        "    else:\n",
        "      print(p,'not prime')\n",
        "    return L\n",
        "\n",
        " \n",
        "#Euler4(1,1) #0121\n",
        "#Euler4(1,2) #0121\n",
        "#Euler4(1,3) #0121\n",
        "#Euler4(1,4) #0121 \n",
        "#Euler4(1,5) #0121\n",
        "#Euler4(1,6) #0111\n",
        "#Euler4(1,7) #0121\n",
        "\n",
        "#Euler4(2,2) not prime\n",
        "#Euler4(2,3) not prime\n",
        "#Euler4(2,4) not prime\n",
        "#Euler4(3,2) #0111\n",
        "#Euler4(3,3) #0101\n",
        "#Euler4(7,8) #0121\n",
        "\n",
        "#Euler4(2,1) not prime\n",
        "#Euler4(3,1) #0111 \n",
        "#Euler4(4,1) not prime\n",
        "#Euler4(5,1) #0121\n",
        "#Euler4(6,1) not prime\n",
        "#Euler4(7,1) #0121"
      ],
      "metadata": {
        "colab": {
          "base_uri": "https://localhost:8080/"
        },
        "id": "7bYua2nLoG9W",
        "outputId": "4a4247e8-4303-4fcb-e9a8-1b1a7f95f822"
      },
      "execution_count": null,
      "outputs": [
        {
          "output_type": "execute_result",
          "data": {
            "text/plain": [
              "[0, 1, 2, 1]"
            ]
          },
          "metadata": {},
          "execution_count": 30
        }
      ]
    },
    {
      "cell_type": "markdown",
      "source": [
        "From the results A=1,B=2,4"
      ],
      "metadata": {
        "id": "GfL6lqEVo14c"
      }
    },
    {
      "cell_type": "code",
      "source": [
        "L=[]\n",
        "def Euler5(x,y): #$n=x^{2}+ny^{2}$\n",
        "  p=x**2+5*y**2\n",
        "  for i in range(2,p):\n",
        "    if (p % i) != 0:\n",
        "      for B in range(1,5):\n",
        "        L.append(p%B)\n",
        "      \n",
        "    else:\n",
        "      print(p,'not prime')\n",
        "    return L\n",
        "\n",
        " \n",
        "#Euler5(1,1)not prime\n",
        "#Euler5(1,2)not prime\n",
        "#Euler5(1,3)not prime\n",
        "#Euler5(1,4)not prime\n",
        "#Euler5(1,5)not prime\n",
        "\n",
        "#Euler5(2,2) not prime\n",
        "#Euler5(2,3) #0111\n",
        "#Euler5(2,4) not prime\n",
        "#Euler5(3,2) #0121\n",
        "#Euler5(3,4) #0121\n",
        "#Euler5(6,3) #0101\n",
        "\n",
        "#Euler5(2,1)not prime\n",
        "#Euler5(3,1)not prime\n",
        "#Euler5(4,1)not prime\n",
        "#Euler5(5,1)not prime"
      ],
      "metadata": {
        "colab": {
          "base_uri": "https://localhost:8080/"
        },
        "id": "EInRYtYQpDwM",
        "outputId": "48edad5c-2a6a-4e88-b520-621ee60527ba"
      },
      "execution_count": null,
      "outputs": [
        {
          "output_type": "execute_result",
          "data": {
            "text/plain": [
              "[0, 1, 0, 1]"
            ]
          },
          "metadata": {},
          "execution_count": 38
        }
      ]
    },
    {
      "cell_type": "markdown",
      "source": [
        "From the results A=1 and B=3,4"
      ],
      "metadata": {
        "id": "IW0WJVf2ZYrn"
      }
    },
    {
      "cell_type": "code",
      "source": [
        "L=[]\n",
        "def Euler6(x,y): #$n=x^{2}+ny^{2}$\n",
        "  p=x**2+6*y**2\n",
        "  for i in range(2,p):\n",
        "    if (p % i) != 0:\n",
        "      for B in range(1,5):\n",
        "        L.append(p%B)\n",
        "      \n",
        "    else:\n",
        "      print(p,'not prime')\n",
        "    return L\n",
        "\n",
        "#Euler6(1,1)#0113\n",
        "#Euler6(1,2)#0111\n",
        "#Euler6(1,3)#0113\n",
        "#Euler6(1,4)#0111\n",
        "\n",
        "\n",
        "#Euler6(2,1)#not prime\n",
        "#Euler6(3,1)#0103\n",
        "#Euler6(4,1)#not prime\n",
        "#Euler6(5,1)#0113\n",
        "\n",
        "#A=1 B=2"
      ],
      "metadata": {
        "id": "gNqUqoiMzs8z"
      },
      "execution_count": null,
      "outputs": []
    },
    {
      "cell_type": "markdown",
      "source": [
        "From the results A=1, B=2"
      ],
      "metadata": {
        "id": "xrJ8dN30ZiEv"
      }
    },
    {
      "cell_type": "code",
      "source": [
        "L=[]\n",
        "def Euler7(x,y): #$n=x^{2}+ny^{2}$\n",
        "  p=x**2+7*y**2\n",
        "  for i in range(2,p):\n",
        "    if (p % i) != 0:\n",
        "      for B in range(1,5):\n",
        "        L.append(p%B)\n",
        "      \n",
        "    else:\n",
        "      print(p,'not prime')\n",
        "    return L\n",
        "\n",
        " \n",
        "#Euler7(1,1)#not prime\n",
        "#Euler7(1,2)#0121\n",
        "#Euler7(1,3)#not prime\n",
        "#Euler7(1,4)#0121\n",
        "#Euler7(1,5)#not prime\n",
        "\n",
        "\n",
        "#Euler7(2,1)#0123\n",
        "#Euler7(3,1)#not prime\n",
        "#Euler7(4,1)#0123\n",
        "#Euler7(5,1)#not prime"
      ],
      "metadata": {
        "colab": {
          "base_uri": "https://localhost:8080/"
        },
        "id": "bFaH7ZDV0T1c",
        "outputId": "e2f8d74c-6b22-45f8-95e3-4d3d06cb1ae9"
      },
      "execution_count": null,
      "outputs": [
        {
          "output_type": "stream",
          "name": "stdout",
          "text": [
            "32 not prime\n"
          ]
        },
        {
          "output_type": "execute_result",
          "data": {
            "text/plain": [
              "[]"
            ]
          },
          "metadata": {},
          "execution_count": 218
        }
      ]
    },
    {
      "cell_type": "markdown",
      "source": [
        "From the results A=1 B=2 and A=2 B=3"
      ],
      "metadata": {
        "id": "lIAllTXyZus1"
      }
    },
    {
      "cell_type": "code",
      "source": [
        "L=[]\n",
        "def Euler8(x,y): #$n=x^{2}+ny^{2}$\n",
        "  p=x**2+8*y**2\n",
        "  for i in range(2,p):\n",
        "    if (p % i) != 0:\n",
        "      for B in range(1,5):\n",
        "        L.append(p%B)\n",
        "      \n",
        "    else:\n",
        "      print(p,'not prime')\n",
        "    return L\n",
        "\n",
        " \n",
        "#Euler8(1,1)#0101\n",
        "#Euler8(1,2)#0101\n",
        "#Euler8(1,3)#0111\n",
        "#Euler8(1,4)#0101\n",
        "#Euler8(1,5)#0101\n",
        "\n",
        "\n",
        "#Euler8(2,1)#not prime\n",
        "#Euler8(3,1)#0121\n",
        "#Euler8(4,1)#not prime\n",
        "#Euler8(5,1)#0101"
      ],
      "metadata": {
        "colab": {
          "base_uri": "https://localhost:8080/"
        },
        "id": "VtmDV0u9004p",
        "outputId": "df9b1b39-185a-48b6-beb3-84a55bb98681"
      },
      "execution_count": null,
      "outputs": [
        {
          "output_type": "execute_result",
          "data": {
            "text/plain": [
              "[0, 1, 0, 1]"
            ]
          },
          "metadata": {},
          "execution_count": 228
        }
      ]
    },
    {
      "cell_type": "markdown",
      "source": [
        "From the results A=1 and B=2,4"
      ],
      "metadata": {
        "id": "QmK0y4s-Z603"
      }
    },
    {
      "cell_type": "code",
      "source": [
        "L=[]\n",
        "def Euler9(x,y): #$n=x^{2}+ny^{2}$\n",
        "  p=x**2+9*y**2\n",
        "  for i in range(2,p):\n",
        "    if (p % i) != 0:\n",
        "      for B in range(1,5):\n",
        "        L.append(p%B)\n",
        "      \n",
        "    else:\n",
        "      print(p,'not prime')\n",
        "    return L\n",
        "\n",
        " \n",
        "#Euler9(1,1)#not prime\n",
        "#Euler9(1,2)#0111\n",
        "#Euler9(1,3)#not prime\n",
        "#Euler9(1,4)#0111\n",
        "#Euler9(1,5)#not prime\n",
        "\n",
        "#Euler9(2,2) \n",
        "#Euler9(2,3) #0111\n",
        "#Euler9(2,4) \n",
        "#Euler9(3,2) #0101\n",
        "#Euler9(33,90) #0101\n",
        "\n",
        "#Euler9(2,1)#0111\n",
        "#Euler9(3,1)#not prime\n",
        "#Euler9(4,1)#0111\n",
        "#Euler9(5,1)#not prime"
      ],
      "metadata": {
        "colab": {
          "base_uri": "https://localhost:8080/"
        },
        "id": "e32MwKCj1V00",
        "outputId": "46912aeb-7145-4860-a49d-8d4b0da9edcb"
      },
      "execution_count": null,
      "outputs": [
        {
          "output_type": "execute_result",
          "data": {
            "text/plain": [
              "[0, 1, 0, 1]"
            ]
          },
          "metadata": {},
          "execution_count": 62
        }
      ]
    },
    {
      "cell_type": "markdown",
      "source": [
        "From the results A=1 and B=2,4"
      ],
      "metadata": {
        "id": "ooqrihPUa21b"
      }
    },
    {
      "cell_type": "markdown",
      "metadata": {
        "id": "qjBNKFCd95sS"
      },
      "source": [
        "# Challenge 5\n",
        "\n",
        "Often when visualizing time-series data, it makes sense to look not at day-by-day changes, but rather at a 7-day rolling average.  For example, when looking at Covid-19 cases, there are reporting fluctuations from day to day, so instead it is usually better to look at the average number of cases over the previous 7 days.\n",
        "\n",
        "Write a function `def rolling(A, window=7):` which takes as input a one-dimensional numpy array `A`, and a parameter `window` whose default value is `7`.  The function must return an array `R` whose length is shorter than the length of `A`.  The entry `R[j]` should be the **average** of `A[j]`, `A[j+1]`, etc., up to `A[j+window-1]`.  \n",
        "\n",
        "Then use this function and matplotlib to produce a plot:  a line plot of the array `A` produced below, and a line plot of the 7-day rolling average `R` produced by your function.  These plots should be on the same figure, and clearly labeled.\n"
      ]
    },
    {
      "cell_type": "code",
      "metadata": {
        "id": "lu-pNl8SbeEG"
      },
      "source": [
        "# Here is the code to produce your test array A.\n",
        "# Please use this array in your plot!\n",
        "\n",
        "x_array = np.arange(300)\n",
        "A = 5*(x_array/200)**2\n",
        "A = A + np.random.random(len(A))"
      ],
      "execution_count": null,
      "outputs": []
    },
    {
      "cell_type": "code",
      "metadata": {
        "id": "oq5NDBV4_tCs"
      },
      "source": [
        "# Please use this code to import matplotlib.\n",
        "import matplotlib.pyplot as plt"
      ],
      "execution_count": null,
      "outputs": []
    },
    {
      "cell_type": "code",
      "metadata": {
        "id": "9BM_gTge_6rb"
      },
      "source": [
        "# Here is a plot of the array, to get you started.  \n",
        "plt.plot(x_array, A)\n",
        "\n",
        "# Now it's time to write your function to produce the 7-day rolling average, add it to the plot, and make everything clear and labeled."
      ],
      "execution_count": null,
      "outputs": []
    },
    {
      "cell_type": "code",
      "metadata": {
        "id": "3OlNFd1xJ1CV"
      },
      "source": [
        ""
      ],
      "execution_count": null,
      "outputs": []
    }
  ]
}